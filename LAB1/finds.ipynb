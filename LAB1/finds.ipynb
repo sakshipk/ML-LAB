import pandas as pd
import numpy as np
 
data = pd.read_csv("ENJOYSPORT.csv")
print(data,"\n")
 
#array of all the attributes
d = np.array(data)[:,:-1]
print("\n The attributes are: \n",d)
 
target = np.array(data)[:,-1]
print("\n The target is: ",target)

global specific_hypothesis

def findS(c,t):
    
    for i, val in enumerate(t):
        if val == 1:
            specific_hypothesis = c[i].copy()
            break
             
    for i, val in enumerate(c):
        if t[i] == 1:
            for x in range(len(specific_hypothesis)):
                if val[x] != specific_hypothesis[x]:
                    specific_hypothesis[x] = '?'
                else:
                    pass
                 
    return specific_hypothesis
 
print("\n The final hypothesis is:",findS(d,target))
